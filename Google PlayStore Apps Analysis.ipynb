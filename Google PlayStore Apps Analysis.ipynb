{
 "cells": [
  {
   "cell_type": "markdown",
   "id": "aab77368",
   "metadata": {},
   "source": [
    "# <center><font color=blue, size=30> Google Play Store Apps Dataset </font></center>"
   ]
  },
  {
   "cell_type": "markdown",
   "id": "734e9155",
   "metadata": {},
   "source": [
    "# <font color=#17A589, size = 20>  Data Loading & Overview </font>\n",
    "### <font color=red> Important:  </font> Feel free to add as many cells as you might need to answer the questions"
   ]
  },
  {
   "cell_type": "markdown",
   "id": "10d080c8",
   "metadata": {},
   "source": [
    "## Import the required librairies and load the dataset"
   ]
  },
  {
   "cell_type": "code",
   "execution_count": 1,
   "id": "340ba525",
   "metadata": {},
   "outputs": [],
   "source": [
    "import pandas as pd\n",
    "\n",
    "# Load data into a DataFrame\n",
    "df = pd.read_csv(\"googleplaystore.csv\")"
   ]
  },
  {
   "cell_type": "markdown",
   "id": "66e321a7",
   "metadata": {},
   "source": [
    "## 1.Display Top 5 rows of the dataset"
   ]
  },
  {
   "cell_type": "code",
   "execution_count": 8,
   "id": "72f5fb6d",
   "metadata": {},
   "outputs": [
    {
     "data": {
      "text/html": [
       "<div>\n",
       "<style scoped>\n",
       "    .dataframe tbody tr th:only-of-type {\n",
       "        vertical-align: middle;\n",
       "    }\n",
       "\n",
       "    .dataframe tbody tr th {\n",
       "        vertical-align: top;\n",
       "    }\n",
       "\n",
       "    .dataframe thead th {\n",
       "        text-align: right;\n",
       "    }\n",
       "</style>\n",
       "<table border=\"1\" class=\"dataframe\">\n",
       "  <thead>\n",
       "    <tr style=\"text-align: right;\">\n",
       "      <th></th>\n",
       "      <th>App</th>\n",
       "      <th>Category</th>\n",
       "      <th>Rating</th>\n",
       "      <th>Reviews</th>\n",
       "      <th>Size</th>\n",
       "      <th>Installs</th>\n",
       "      <th>Type</th>\n",
       "      <th>Price</th>\n",
       "      <th>Content Rating</th>\n",
       "      <th>Genres</th>\n",
       "      <th>Last Updated</th>\n",
       "      <th>Current Ver</th>\n",
       "      <th>Android Ver</th>\n",
       "    </tr>\n",
       "  </thead>\n",
       "  <tbody>\n",
       "    <tr>\n",
       "      <th>0</th>\n",
       "      <td>Photo Editor &amp; Candy Camera &amp; Grid &amp; ScrapBook</td>\n",
       "      <td>ART_AND_DESIGN</td>\n",
       "      <td>4.1</td>\n",
       "      <td>159</td>\n",
       "      <td>19M</td>\n",
       "      <td>10,000+</td>\n",
       "      <td>Free</td>\n",
       "      <td>0</td>\n",
       "      <td>Everyone</td>\n",
       "      <td>Art &amp; Design</td>\n",
       "      <td>January 7, 2018</td>\n",
       "      <td>1.0.0</td>\n",
       "      <td>4.0.3 and up</td>\n",
       "    </tr>\n",
       "    <tr>\n",
       "      <th>1</th>\n",
       "      <td>Coloring book moana</td>\n",
       "      <td>ART_AND_DESIGN</td>\n",
       "      <td>3.9</td>\n",
       "      <td>967</td>\n",
       "      <td>14M</td>\n",
       "      <td>500,000+</td>\n",
       "      <td>Free</td>\n",
       "      <td>0</td>\n",
       "      <td>Everyone</td>\n",
       "      <td>Art &amp; Design;Pretend Play</td>\n",
       "      <td>January 15, 2018</td>\n",
       "      <td>2.0.0</td>\n",
       "      <td>4.0.3 and up</td>\n",
       "    </tr>\n",
       "    <tr>\n",
       "      <th>2</th>\n",
       "      <td>U Launcher Lite – FREE Live Cool Themes, Hide ...</td>\n",
       "      <td>ART_AND_DESIGN</td>\n",
       "      <td>4.7</td>\n",
       "      <td>87510</td>\n",
       "      <td>8.7M</td>\n",
       "      <td>5,000,000+</td>\n",
       "      <td>Free</td>\n",
       "      <td>0</td>\n",
       "      <td>Everyone</td>\n",
       "      <td>Art &amp; Design</td>\n",
       "      <td>August 1, 2018</td>\n",
       "      <td>1.2.4</td>\n",
       "      <td>4.0.3 and up</td>\n",
       "    </tr>\n",
       "    <tr>\n",
       "      <th>3</th>\n",
       "      <td>Sketch - Draw &amp; Paint</td>\n",
       "      <td>ART_AND_DESIGN</td>\n",
       "      <td>4.5</td>\n",
       "      <td>215644</td>\n",
       "      <td>25M</td>\n",
       "      <td>50,000,000+</td>\n",
       "      <td>Free</td>\n",
       "      <td>0</td>\n",
       "      <td>Teen</td>\n",
       "      <td>Art &amp; Design</td>\n",
       "      <td>June 8, 2018</td>\n",
       "      <td>Varies with device</td>\n",
       "      <td>4.2 and up</td>\n",
       "    </tr>\n",
       "    <tr>\n",
       "      <th>4</th>\n",
       "      <td>Pixel Draw - Number Art Coloring Book</td>\n",
       "      <td>ART_AND_DESIGN</td>\n",
       "      <td>4.3</td>\n",
       "      <td>967</td>\n",
       "      <td>2.8M</td>\n",
       "      <td>100,000+</td>\n",
       "      <td>Free</td>\n",
       "      <td>0</td>\n",
       "      <td>Everyone</td>\n",
       "      <td>Art &amp; Design;Creativity</td>\n",
       "      <td>June 20, 2018</td>\n",
       "      <td>1.1</td>\n",
       "      <td>4.4 and up</td>\n",
       "    </tr>\n",
       "  </tbody>\n",
       "</table>\n",
       "</div>"
      ],
      "text/plain": [
       "                                                 App        Category  Rating  \\\n",
       "0     Photo Editor & Candy Camera & Grid & ScrapBook  ART_AND_DESIGN     4.1   \n",
       "1                                Coloring book moana  ART_AND_DESIGN     3.9   \n",
       "2  U Launcher Lite – FREE Live Cool Themes, Hide ...  ART_AND_DESIGN     4.7   \n",
       "3                              Sketch - Draw & Paint  ART_AND_DESIGN     4.5   \n",
       "4              Pixel Draw - Number Art Coloring Book  ART_AND_DESIGN     4.3   \n",
       "\n",
       "  Reviews  Size     Installs  Type Price Content Rating  \\\n",
       "0     159   19M      10,000+  Free     0       Everyone   \n",
       "1     967   14M     500,000+  Free     0       Everyone   \n",
       "2   87510  8.7M   5,000,000+  Free     0       Everyone   \n",
       "3  215644   25M  50,000,000+  Free     0           Teen   \n",
       "4     967  2.8M     100,000+  Free     0       Everyone   \n",
       "\n",
       "                      Genres      Last Updated         Current Ver  \\\n",
       "0               Art & Design   January 7, 2018               1.0.0   \n",
       "1  Art & Design;Pretend Play  January 15, 2018               2.0.0   \n",
       "2               Art & Design    August 1, 2018               1.2.4   \n",
       "3               Art & Design      June 8, 2018  Varies with device   \n",
       "4    Art & Design;Creativity     June 20, 2018                 1.1   \n",
       "\n",
       "    Android Ver  \n",
       "0  4.0.3 and up  \n",
       "1  4.0.3 and up  \n",
       "2  4.0.3 and up  \n",
       "3    4.2 and up  \n",
       "4    4.4 and up  "
      ]
     },
     "execution_count": 8,
     "metadata": {},
     "output_type": "execute_result"
    }
   ],
   "source": [
    "df.head(5)"
   ]
  },
  {
   "cell_type": "markdown",
   "id": "fd29d391",
   "metadata": {},
   "source": [
    "## 2. Display last 3 rows of the dataset"
   ]
  },
  {
   "cell_type": "code",
   "execution_count": 9,
   "id": "d03c8a68",
   "metadata": {},
   "outputs": [
    {
     "data": {
      "text/html": [
       "<div>\n",
       "<style scoped>\n",
       "    .dataframe tbody tr th:only-of-type {\n",
       "        vertical-align: middle;\n",
       "    }\n",
       "\n",
       "    .dataframe tbody tr th {\n",
       "        vertical-align: top;\n",
       "    }\n",
       "\n",
       "    .dataframe thead th {\n",
       "        text-align: right;\n",
       "    }\n",
       "</style>\n",
       "<table border=\"1\" class=\"dataframe\">\n",
       "  <thead>\n",
       "    <tr style=\"text-align: right;\">\n",
       "      <th></th>\n",
       "      <th>App</th>\n",
       "      <th>Category</th>\n",
       "      <th>Rating</th>\n",
       "      <th>Reviews</th>\n",
       "      <th>Size</th>\n",
       "      <th>Installs</th>\n",
       "      <th>Type</th>\n",
       "      <th>Price</th>\n",
       "      <th>Content Rating</th>\n",
       "      <th>Genres</th>\n",
       "      <th>Last Updated</th>\n",
       "      <th>Current Ver</th>\n",
       "      <th>Android Ver</th>\n",
       "    </tr>\n",
       "  </thead>\n",
       "  <tbody>\n",
       "    <tr>\n",
       "      <th>10838</th>\n",
       "      <td>Parkinson Exercices FR</td>\n",
       "      <td>MEDICAL</td>\n",
       "      <td>NaN</td>\n",
       "      <td>3</td>\n",
       "      <td>9.5M</td>\n",
       "      <td>1,000+</td>\n",
       "      <td>Free</td>\n",
       "      <td>0</td>\n",
       "      <td>Everyone</td>\n",
       "      <td>Medical</td>\n",
       "      <td>January 20, 2017</td>\n",
       "      <td>1.0</td>\n",
       "      <td>2.2 and up</td>\n",
       "    </tr>\n",
       "    <tr>\n",
       "      <th>10839</th>\n",
       "      <td>The SCP Foundation DB fr nn5n</td>\n",
       "      <td>BOOKS_AND_REFERENCE</td>\n",
       "      <td>4.5</td>\n",
       "      <td>114</td>\n",
       "      <td>Varies with device</td>\n",
       "      <td>1,000+</td>\n",
       "      <td>Free</td>\n",
       "      <td>0</td>\n",
       "      <td>Mature 17+</td>\n",
       "      <td>Books &amp; Reference</td>\n",
       "      <td>January 19, 2015</td>\n",
       "      <td>Varies with device</td>\n",
       "      <td>Varies with device</td>\n",
       "    </tr>\n",
       "    <tr>\n",
       "      <th>10840</th>\n",
       "      <td>iHoroscope - 2018 Daily Horoscope &amp; Astrology</td>\n",
       "      <td>LIFESTYLE</td>\n",
       "      <td>4.5</td>\n",
       "      <td>398307</td>\n",
       "      <td>19M</td>\n",
       "      <td>10,000,000+</td>\n",
       "      <td>Free</td>\n",
       "      <td>0</td>\n",
       "      <td>Everyone</td>\n",
       "      <td>Lifestyle</td>\n",
       "      <td>July 25, 2018</td>\n",
       "      <td>Varies with device</td>\n",
       "      <td>Varies with device</td>\n",
       "    </tr>\n",
       "  </tbody>\n",
       "</table>\n",
       "</div>"
      ],
      "text/plain": [
       "                                                 App             Category  \\\n",
       "10838                         Parkinson Exercices FR              MEDICAL   \n",
       "10839                  The SCP Foundation DB fr nn5n  BOOKS_AND_REFERENCE   \n",
       "10840  iHoroscope - 2018 Daily Horoscope & Astrology            LIFESTYLE   \n",
       "\n",
       "       Rating Reviews                Size     Installs  Type Price  \\\n",
       "10838     NaN       3                9.5M       1,000+  Free     0   \n",
       "10839     4.5     114  Varies with device       1,000+  Free     0   \n",
       "10840     4.5  398307                 19M  10,000,000+  Free     0   \n",
       "\n",
       "      Content Rating             Genres      Last Updated         Current Ver  \\\n",
       "10838       Everyone            Medical  January 20, 2017                 1.0   \n",
       "10839     Mature 17+  Books & Reference  January 19, 2015  Varies with device   \n",
       "10840       Everyone          Lifestyle     July 25, 2018  Varies with device   \n",
       "\n",
       "              Android Ver  \n",
       "10838          2.2 and up  \n",
       "10839  Varies with device  \n",
       "10840  Varies with device  "
      ]
     },
     "execution_count": 9,
     "metadata": {},
     "output_type": "execute_result"
    }
   ],
   "source": [
    "df.tail(3)"
   ]
  },
  {
   "cell_type": "markdown",
   "id": "8553a951",
   "metadata": {},
   "source": [
    "## 3. Display all the rows except the Five last rows"
   ]
  },
  {
   "cell_type": "code",
   "execution_count": 14,
   "id": "38422fc3",
   "metadata": {},
   "outputs": [
    {
     "data": {
      "text/html": [
       "<div>\n",
       "<style scoped>\n",
       "    .dataframe tbody tr th:only-of-type {\n",
       "        vertical-align: middle;\n",
       "    }\n",
       "\n",
       "    .dataframe tbody tr th {\n",
       "        vertical-align: top;\n",
       "    }\n",
       "\n",
       "    .dataframe thead th {\n",
       "        text-align: right;\n",
       "    }\n",
       "</style>\n",
       "<table border=\"1\" class=\"dataframe\">\n",
       "  <thead>\n",
       "    <tr style=\"text-align: right;\">\n",
       "      <th></th>\n",
       "      <th>App</th>\n",
       "      <th>Category</th>\n",
       "      <th>Rating</th>\n",
       "      <th>Reviews</th>\n",
       "      <th>Size</th>\n",
       "      <th>Installs</th>\n",
       "      <th>Type</th>\n",
       "      <th>Price</th>\n",
       "      <th>Content Rating</th>\n",
       "      <th>Genres</th>\n",
       "      <th>Last Updated</th>\n",
       "      <th>Current Ver</th>\n",
       "      <th>Android Ver</th>\n",
       "    </tr>\n",
       "  </thead>\n",
       "  <tbody>\n",
       "    <tr>\n",
       "      <th>0</th>\n",
       "      <td>Photo Editor &amp; Candy Camera &amp; Grid &amp; ScrapBook</td>\n",
       "      <td>ART_AND_DESIGN</td>\n",
       "      <td>4.1</td>\n",
       "      <td>159</td>\n",
       "      <td>19M</td>\n",
       "      <td>10,000+</td>\n",
       "      <td>Free</td>\n",
       "      <td>0</td>\n",
       "      <td>Everyone</td>\n",
       "      <td>Art &amp; Design</td>\n",
       "      <td>January 7, 2018</td>\n",
       "      <td>1.0.0</td>\n",
       "      <td>4.0.3 and up</td>\n",
       "    </tr>\n",
       "    <tr>\n",
       "      <th>1</th>\n",
       "      <td>Coloring book moana</td>\n",
       "      <td>ART_AND_DESIGN</td>\n",
       "      <td>3.9</td>\n",
       "      <td>967</td>\n",
       "      <td>14M</td>\n",
       "      <td>500,000+</td>\n",
       "      <td>Free</td>\n",
       "      <td>0</td>\n",
       "      <td>Everyone</td>\n",
       "      <td>Art &amp; Design;Pretend Play</td>\n",
       "      <td>January 15, 2018</td>\n",
       "      <td>2.0.0</td>\n",
       "      <td>4.0.3 and up</td>\n",
       "    </tr>\n",
       "    <tr>\n",
       "      <th>2</th>\n",
       "      <td>U Launcher Lite – FREE Live Cool Themes, Hide ...</td>\n",
       "      <td>ART_AND_DESIGN</td>\n",
       "      <td>4.7</td>\n",
       "      <td>87510</td>\n",
       "      <td>8.7M</td>\n",
       "      <td>5,000,000+</td>\n",
       "      <td>Free</td>\n",
       "      <td>0</td>\n",
       "      <td>Everyone</td>\n",
       "      <td>Art &amp; Design</td>\n",
       "      <td>August 1, 2018</td>\n",
       "      <td>1.2.4</td>\n",
       "      <td>4.0.3 and up</td>\n",
       "    </tr>\n",
       "    <tr>\n",
       "      <th>3</th>\n",
       "      <td>Sketch - Draw &amp; Paint</td>\n",
       "      <td>ART_AND_DESIGN</td>\n",
       "      <td>4.5</td>\n",
       "      <td>215644</td>\n",
       "      <td>25M</td>\n",
       "      <td>50,000,000+</td>\n",
       "      <td>Free</td>\n",
       "      <td>0</td>\n",
       "      <td>Teen</td>\n",
       "      <td>Art &amp; Design</td>\n",
       "      <td>June 8, 2018</td>\n",
       "      <td>Varies with device</td>\n",
       "      <td>4.2 and up</td>\n",
       "    </tr>\n",
       "    <tr>\n",
       "      <th>4</th>\n",
       "      <td>Pixel Draw - Number Art Coloring Book</td>\n",
       "      <td>ART_AND_DESIGN</td>\n",
       "      <td>4.3</td>\n",
       "      <td>967</td>\n",
       "      <td>2.8M</td>\n",
       "      <td>100,000+</td>\n",
       "      <td>Free</td>\n",
       "      <td>0</td>\n",
       "      <td>Everyone</td>\n",
       "      <td>Art &amp; Design;Creativity</td>\n",
       "      <td>June 20, 2018</td>\n",
       "      <td>1.1</td>\n",
       "      <td>4.4 and up</td>\n",
       "    </tr>\n",
       "    <tr>\n",
       "      <th>...</th>\n",
       "      <td>...</td>\n",
       "      <td>...</td>\n",
       "      <td>...</td>\n",
       "      <td>...</td>\n",
       "      <td>...</td>\n",
       "      <td>...</td>\n",
       "      <td>...</td>\n",
       "      <td>...</td>\n",
       "      <td>...</td>\n",
       "      <td>...</td>\n",
       "      <td>...</td>\n",
       "      <td>...</td>\n",
       "      <td>...</td>\n",
       "    </tr>\n",
       "    <tr>\n",
       "      <th>10831</th>\n",
       "      <td>payermonstationnement.fr</td>\n",
       "      <td>MAPS_AND_NAVIGATION</td>\n",
       "      <td>NaN</td>\n",
       "      <td>38</td>\n",
       "      <td>9.8M</td>\n",
       "      <td>5,000+</td>\n",
       "      <td>Free</td>\n",
       "      <td>0</td>\n",
       "      <td>Everyone</td>\n",
       "      <td>Maps &amp; Navigation</td>\n",
       "      <td>June 13, 2018</td>\n",
       "      <td>2.0.148.0</td>\n",
       "      <td>4.0 and up</td>\n",
       "    </tr>\n",
       "    <tr>\n",
       "      <th>10832</th>\n",
       "      <td>FR Tides</td>\n",
       "      <td>WEATHER</td>\n",
       "      <td>3.8</td>\n",
       "      <td>1195</td>\n",
       "      <td>582k</td>\n",
       "      <td>100,000+</td>\n",
       "      <td>Free</td>\n",
       "      <td>0</td>\n",
       "      <td>Everyone</td>\n",
       "      <td>Weather</td>\n",
       "      <td>February 16, 2014</td>\n",
       "      <td>6.0</td>\n",
       "      <td>2.1 and up</td>\n",
       "    </tr>\n",
       "    <tr>\n",
       "      <th>10833</th>\n",
       "      <td>Chemin (fr)</td>\n",
       "      <td>BOOKS_AND_REFERENCE</td>\n",
       "      <td>4.8</td>\n",
       "      <td>44</td>\n",
       "      <td>619k</td>\n",
       "      <td>1,000+</td>\n",
       "      <td>Free</td>\n",
       "      <td>0</td>\n",
       "      <td>Everyone</td>\n",
       "      <td>Books &amp; Reference</td>\n",
       "      <td>March 23, 2014</td>\n",
       "      <td>0.8</td>\n",
       "      <td>2.2 and up</td>\n",
       "    </tr>\n",
       "    <tr>\n",
       "      <th>10834</th>\n",
       "      <td>FR Calculator</td>\n",
       "      <td>FAMILY</td>\n",
       "      <td>4.0</td>\n",
       "      <td>7</td>\n",
       "      <td>2.6M</td>\n",
       "      <td>500+</td>\n",
       "      <td>Free</td>\n",
       "      <td>0</td>\n",
       "      <td>Everyone</td>\n",
       "      <td>Education</td>\n",
       "      <td>June 18, 2017</td>\n",
       "      <td>1.0.0</td>\n",
       "      <td>4.1 and up</td>\n",
       "    </tr>\n",
       "    <tr>\n",
       "      <th>10835</th>\n",
       "      <td>FR Forms</td>\n",
       "      <td>BUSINESS</td>\n",
       "      <td>NaN</td>\n",
       "      <td>0</td>\n",
       "      <td>9.6M</td>\n",
       "      <td>10+</td>\n",
       "      <td>Free</td>\n",
       "      <td>0</td>\n",
       "      <td>Everyone</td>\n",
       "      <td>Business</td>\n",
       "      <td>September 29, 2016</td>\n",
       "      <td>1.1.5</td>\n",
       "      <td>4.0 and up</td>\n",
       "    </tr>\n",
       "  </tbody>\n",
       "</table>\n",
       "<p>10836 rows × 13 columns</p>\n",
       "</div>"
      ],
      "text/plain": [
       "                                                     App             Category  \\\n",
       "0         Photo Editor & Candy Camera & Grid & ScrapBook       ART_AND_DESIGN   \n",
       "1                                    Coloring book moana       ART_AND_DESIGN   \n",
       "2      U Launcher Lite – FREE Live Cool Themes, Hide ...       ART_AND_DESIGN   \n",
       "3                                  Sketch - Draw & Paint       ART_AND_DESIGN   \n",
       "4                  Pixel Draw - Number Art Coloring Book       ART_AND_DESIGN   \n",
       "...                                                  ...                  ...   \n",
       "10831                           payermonstationnement.fr  MAPS_AND_NAVIGATION   \n",
       "10832                                           FR Tides              WEATHER   \n",
       "10833                                        Chemin (fr)  BOOKS_AND_REFERENCE   \n",
       "10834                                      FR Calculator               FAMILY   \n",
       "10835                                           FR Forms             BUSINESS   \n",
       "\n",
       "       Rating Reviews  Size     Installs  Type Price Content Rating  \\\n",
       "0         4.1     159   19M      10,000+  Free     0       Everyone   \n",
       "1         3.9     967   14M     500,000+  Free     0       Everyone   \n",
       "2         4.7   87510  8.7M   5,000,000+  Free     0       Everyone   \n",
       "3         4.5  215644   25M  50,000,000+  Free     0           Teen   \n",
       "4         4.3     967  2.8M     100,000+  Free     0       Everyone   \n",
       "...       ...     ...   ...          ...   ...   ...            ...   \n",
       "10831     NaN      38  9.8M       5,000+  Free     0       Everyone   \n",
       "10832     3.8    1195  582k     100,000+  Free     0       Everyone   \n",
       "10833     4.8      44  619k       1,000+  Free     0       Everyone   \n",
       "10834     4.0       7  2.6M         500+  Free     0       Everyone   \n",
       "10835     NaN       0  9.6M          10+  Free     0       Everyone   \n",
       "\n",
       "                          Genres        Last Updated         Current Ver  \\\n",
       "0                   Art & Design     January 7, 2018               1.0.0   \n",
       "1      Art & Design;Pretend Play    January 15, 2018               2.0.0   \n",
       "2                   Art & Design      August 1, 2018               1.2.4   \n",
       "3                   Art & Design        June 8, 2018  Varies with device   \n",
       "4        Art & Design;Creativity       June 20, 2018                 1.1   \n",
       "...                          ...                 ...                 ...   \n",
       "10831          Maps & Navigation       June 13, 2018           2.0.148.0   \n",
       "10832                    Weather   February 16, 2014                 6.0   \n",
       "10833          Books & Reference      March 23, 2014                 0.8   \n",
       "10834                  Education       June 18, 2017               1.0.0   \n",
       "10835                   Business  September 29, 2016               1.1.5   \n",
       "\n",
       "        Android Ver  \n",
       "0      4.0.3 and up  \n",
       "1      4.0.3 and up  \n",
       "2      4.0.3 and up  \n",
       "3        4.2 and up  \n",
       "4        4.4 and up  \n",
       "...             ...  \n",
       "10831    4.0 and up  \n",
       "10832    2.1 and up  \n",
       "10833    2.2 and up  \n",
       "10834    4.1 and up  \n",
       "10835    4.0 and up  \n",
       "\n",
       "[10836 rows x 13 columns]"
      ]
     },
     "execution_count": 14,
     "metadata": {},
     "output_type": "execute_result"
    }
   ],
   "source": [
    "df.head(-5)"
   ]
  },
  {
   "cell_type": "code",
   "execution_count": 15,
   "id": "1dd132d6",
   "metadata": {},
   "outputs": [
    {
     "data": {
      "text/html": [
       "<div>\n",
       "<style scoped>\n",
       "    .dataframe tbody tr th:only-of-type {\n",
       "        vertical-align: middle;\n",
       "    }\n",
       "\n",
       "    .dataframe tbody tr th {\n",
       "        vertical-align: top;\n",
       "    }\n",
       "\n",
       "    .dataframe thead th {\n",
       "        text-align: right;\n",
       "    }\n",
       "</style>\n",
       "<table border=\"1\" class=\"dataframe\">\n",
       "  <thead>\n",
       "    <tr style=\"text-align: right;\">\n",
       "      <th></th>\n",
       "      <th>App</th>\n",
       "      <th>Category</th>\n",
       "      <th>Rating</th>\n",
       "      <th>Reviews</th>\n",
       "      <th>Size</th>\n",
       "      <th>Installs</th>\n",
       "      <th>Type</th>\n",
       "      <th>Price</th>\n",
       "      <th>Content Rating</th>\n",
       "      <th>Genres</th>\n",
       "      <th>Last Updated</th>\n",
       "      <th>Current Ver</th>\n",
       "      <th>Android Ver</th>\n",
       "    </tr>\n",
       "  </thead>\n",
       "  <tbody>\n",
       "    <tr>\n",
       "      <th>0</th>\n",
       "      <td>Photo Editor &amp; Candy Camera &amp; Grid &amp; ScrapBook</td>\n",
       "      <td>ART_AND_DESIGN</td>\n",
       "      <td>4.1</td>\n",
       "      <td>159</td>\n",
       "      <td>19M</td>\n",
       "      <td>10,000+</td>\n",
       "      <td>Free</td>\n",
       "      <td>0</td>\n",
       "      <td>Everyone</td>\n",
       "      <td>Art &amp; Design</td>\n",
       "      <td>January 7, 2018</td>\n",
       "      <td>1.0.0</td>\n",
       "      <td>4.0.3 and up</td>\n",
       "    </tr>\n",
       "    <tr>\n",
       "      <th>1</th>\n",
       "      <td>Coloring book moana</td>\n",
       "      <td>ART_AND_DESIGN</td>\n",
       "      <td>3.9</td>\n",
       "      <td>967</td>\n",
       "      <td>14M</td>\n",
       "      <td>500,000+</td>\n",
       "      <td>Free</td>\n",
       "      <td>0</td>\n",
       "      <td>Everyone</td>\n",
       "      <td>Art &amp; Design;Pretend Play</td>\n",
       "      <td>January 15, 2018</td>\n",
       "      <td>2.0.0</td>\n",
       "      <td>4.0.3 and up</td>\n",
       "    </tr>\n",
       "    <tr>\n",
       "      <th>2</th>\n",
       "      <td>U Launcher Lite – FREE Live Cool Themes, Hide ...</td>\n",
       "      <td>ART_AND_DESIGN</td>\n",
       "      <td>4.7</td>\n",
       "      <td>87510</td>\n",
       "      <td>8.7M</td>\n",
       "      <td>5,000,000+</td>\n",
       "      <td>Free</td>\n",
       "      <td>0</td>\n",
       "      <td>Everyone</td>\n",
       "      <td>Art &amp; Design</td>\n",
       "      <td>August 1, 2018</td>\n",
       "      <td>1.2.4</td>\n",
       "      <td>4.0.3 and up</td>\n",
       "    </tr>\n",
       "    <tr>\n",
       "      <th>3</th>\n",
       "      <td>Sketch - Draw &amp; Paint</td>\n",
       "      <td>ART_AND_DESIGN</td>\n",
       "      <td>4.5</td>\n",
       "      <td>215644</td>\n",
       "      <td>25M</td>\n",
       "      <td>50,000,000+</td>\n",
       "      <td>Free</td>\n",
       "      <td>0</td>\n",
       "      <td>Teen</td>\n",
       "      <td>Art &amp; Design</td>\n",
       "      <td>June 8, 2018</td>\n",
       "      <td>Varies with device</td>\n",
       "      <td>4.2 and up</td>\n",
       "    </tr>\n",
       "    <tr>\n",
       "      <th>4</th>\n",
       "      <td>Pixel Draw - Number Art Coloring Book</td>\n",
       "      <td>ART_AND_DESIGN</td>\n",
       "      <td>4.3</td>\n",
       "      <td>967</td>\n",
       "      <td>2.8M</td>\n",
       "      <td>100,000+</td>\n",
       "      <td>Free</td>\n",
       "      <td>0</td>\n",
       "      <td>Everyone</td>\n",
       "      <td>Art &amp; Design;Creativity</td>\n",
       "      <td>June 20, 2018</td>\n",
       "      <td>1.1</td>\n",
       "      <td>4.4 and up</td>\n",
       "    </tr>\n",
       "    <tr>\n",
       "      <th>...</th>\n",
       "      <td>...</td>\n",
       "      <td>...</td>\n",
       "      <td>...</td>\n",
       "      <td>...</td>\n",
       "      <td>...</td>\n",
       "      <td>...</td>\n",
       "      <td>...</td>\n",
       "      <td>...</td>\n",
       "      <td>...</td>\n",
       "      <td>...</td>\n",
       "      <td>...</td>\n",
       "      <td>...</td>\n",
       "      <td>...</td>\n",
       "    </tr>\n",
       "    <tr>\n",
       "      <th>10831</th>\n",
       "      <td>payermonstationnement.fr</td>\n",
       "      <td>MAPS_AND_NAVIGATION</td>\n",
       "      <td>NaN</td>\n",
       "      <td>38</td>\n",
       "      <td>9.8M</td>\n",
       "      <td>5,000+</td>\n",
       "      <td>Free</td>\n",
       "      <td>0</td>\n",
       "      <td>Everyone</td>\n",
       "      <td>Maps &amp; Navigation</td>\n",
       "      <td>June 13, 2018</td>\n",
       "      <td>2.0.148.0</td>\n",
       "      <td>4.0 and up</td>\n",
       "    </tr>\n",
       "    <tr>\n",
       "      <th>10832</th>\n",
       "      <td>FR Tides</td>\n",
       "      <td>WEATHER</td>\n",
       "      <td>3.8</td>\n",
       "      <td>1195</td>\n",
       "      <td>582k</td>\n",
       "      <td>100,000+</td>\n",
       "      <td>Free</td>\n",
       "      <td>0</td>\n",
       "      <td>Everyone</td>\n",
       "      <td>Weather</td>\n",
       "      <td>February 16, 2014</td>\n",
       "      <td>6.0</td>\n",
       "      <td>2.1 and up</td>\n",
       "    </tr>\n",
       "    <tr>\n",
       "      <th>10833</th>\n",
       "      <td>Chemin (fr)</td>\n",
       "      <td>BOOKS_AND_REFERENCE</td>\n",
       "      <td>4.8</td>\n",
       "      <td>44</td>\n",
       "      <td>619k</td>\n",
       "      <td>1,000+</td>\n",
       "      <td>Free</td>\n",
       "      <td>0</td>\n",
       "      <td>Everyone</td>\n",
       "      <td>Books &amp; Reference</td>\n",
       "      <td>March 23, 2014</td>\n",
       "      <td>0.8</td>\n",
       "      <td>2.2 and up</td>\n",
       "    </tr>\n",
       "    <tr>\n",
       "      <th>10834</th>\n",
       "      <td>FR Calculator</td>\n",
       "      <td>FAMILY</td>\n",
       "      <td>4.0</td>\n",
       "      <td>7</td>\n",
       "      <td>2.6M</td>\n",
       "      <td>500+</td>\n",
       "      <td>Free</td>\n",
       "      <td>0</td>\n",
       "      <td>Everyone</td>\n",
       "      <td>Education</td>\n",
       "      <td>June 18, 2017</td>\n",
       "      <td>1.0.0</td>\n",
       "      <td>4.1 and up</td>\n",
       "    </tr>\n",
       "    <tr>\n",
       "      <th>10835</th>\n",
       "      <td>FR Forms</td>\n",
       "      <td>BUSINESS</td>\n",
       "      <td>NaN</td>\n",
       "      <td>0</td>\n",
       "      <td>9.6M</td>\n",
       "      <td>10+</td>\n",
       "      <td>Free</td>\n",
       "      <td>0</td>\n",
       "      <td>Everyone</td>\n",
       "      <td>Business</td>\n",
       "      <td>September 29, 2016</td>\n",
       "      <td>1.1.5</td>\n",
       "      <td>4.0 and up</td>\n",
       "    </tr>\n",
       "  </tbody>\n",
       "</table>\n",
       "<p>10836 rows × 13 columns</p>\n",
       "</div>"
      ],
      "text/plain": [
       "                                                     App             Category  \\\n",
       "0         Photo Editor & Candy Camera & Grid & ScrapBook       ART_AND_DESIGN   \n",
       "1                                    Coloring book moana       ART_AND_DESIGN   \n",
       "2      U Launcher Lite – FREE Live Cool Themes, Hide ...       ART_AND_DESIGN   \n",
       "3                                  Sketch - Draw & Paint       ART_AND_DESIGN   \n",
       "4                  Pixel Draw - Number Art Coloring Book       ART_AND_DESIGN   \n",
       "...                                                  ...                  ...   \n",
       "10831                           payermonstationnement.fr  MAPS_AND_NAVIGATION   \n",
       "10832                                           FR Tides              WEATHER   \n",
       "10833                                        Chemin (fr)  BOOKS_AND_REFERENCE   \n",
       "10834                                      FR Calculator               FAMILY   \n",
       "10835                                           FR Forms             BUSINESS   \n",
       "\n",
       "       Rating Reviews  Size     Installs  Type Price Content Rating  \\\n",
       "0         4.1     159   19M      10,000+  Free     0       Everyone   \n",
       "1         3.9     967   14M     500,000+  Free     0       Everyone   \n",
       "2         4.7   87510  8.7M   5,000,000+  Free     0       Everyone   \n",
       "3         4.5  215644   25M  50,000,000+  Free     0           Teen   \n",
       "4         4.3     967  2.8M     100,000+  Free     0       Everyone   \n",
       "...       ...     ...   ...          ...   ...   ...            ...   \n",
       "10831     NaN      38  9.8M       5,000+  Free     0       Everyone   \n",
       "10832     3.8    1195  582k     100,000+  Free     0       Everyone   \n",
       "10833     4.8      44  619k       1,000+  Free     0       Everyone   \n",
       "10834     4.0       7  2.6M         500+  Free     0       Everyone   \n",
       "10835     NaN       0  9.6M          10+  Free     0       Everyone   \n",
       "\n",
       "                          Genres        Last Updated         Current Ver  \\\n",
       "0                   Art & Design     January 7, 2018               1.0.0   \n",
       "1      Art & Design;Pretend Play    January 15, 2018               2.0.0   \n",
       "2                   Art & Design      August 1, 2018               1.2.4   \n",
       "3                   Art & Design        June 8, 2018  Varies with device   \n",
       "4        Art & Design;Creativity       June 20, 2018                 1.1   \n",
       "...                          ...                 ...                 ...   \n",
       "10831          Maps & Navigation       June 13, 2018           2.0.148.0   \n",
       "10832                    Weather   February 16, 2014                 6.0   \n",
       "10833          Books & Reference      March 23, 2014                 0.8   \n",
       "10834                  Education       June 18, 2017               1.0.0   \n",
       "10835                   Business  September 29, 2016               1.1.5   \n",
       "\n",
       "        Android Ver  \n",
       "0      4.0.3 and up  \n",
       "1      4.0.3 and up  \n",
       "2      4.0.3 and up  \n",
       "3        4.2 and up  \n",
       "4        4.4 and up  \n",
       "...             ...  \n",
       "10831    4.0 and up  \n",
       "10832    2.1 and up  \n",
       "10833    2.2 and up  \n",
       "10834    4.1 and up  \n",
       "10835    4.0 and up  \n",
       "\n",
       "[10836 rows x 13 columns]"
      ]
     },
     "execution_count": 15,
     "metadata": {},
     "output_type": "execute_result"
    }
   ],
   "source": [
    "df.iloc[:-5]"
   ]
  },
  {
   "cell_type": "markdown",
   "id": "ecaaa044",
   "metadata": {},
   "source": [
    "## 4. Find Shape of Our Dataset (Number of Rows & Number of Columns)"
   ]
  },
  {
   "cell_type": "code",
   "execution_count": 16,
   "id": "8b0a1bb1",
   "metadata": {},
   "outputs": [
    {
     "name": "stdout",
     "output_type": "stream",
     "text": [
      "Number of Rows:  10841\n",
      "Number of Columns:  13\n"
     ]
    }
   ],
   "source": [
    "rows, columns = df.shape\n",
    "\n",
    "# Print the number of rows and columns\n",
    "print(\"Number of Rows: \", rows)\n",
    "print(\"Number of Columns: \", columns)"
   ]
  },
  {
   "cell_type": "markdown",
   "id": "62c7c4f9",
   "metadata": {},
   "source": [
    "## 5. Get Information About Our Dataset Like Total Number Rows, Total Number of Columns, Datatypes of Each Column And Memory Requirement"
   ]
  },
  {
   "cell_type": "code",
   "execution_count": 19,
   "id": "04b811e9",
   "metadata": {},
   "outputs": [
    {
     "name": "stdout",
     "output_type": "stream",
     "text": [
      "<class 'pandas.core.frame.DataFrame'>\n",
      "RangeIndex: 10841 entries, 0 to 10840\n",
      "Data columns (total 13 columns):\n",
      " #   Column          Non-Null Count  Dtype  \n",
      "---  ------          --------------  -----  \n",
      " 0   App             10841 non-null  object \n",
      " 1   Category        10841 non-null  object \n",
      " 2   Rating          9367 non-null   float64\n",
      " 3   Reviews         10841 non-null  object \n",
      " 4   Size            10841 non-null  object \n",
      " 5   Installs        10841 non-null  object \n",
      " 6   Type            10840 non-null  object \n",
      " 7   Price           10841 non-null  object \n",
      " 8   Content Rating  10840 non-null  object \n",
      " 9   Genres          10841 non-null  object \n",
      " 10  Last Updated    10841 non-null  object \n",
      " 11  Current Ver     10833 non-null  object \n",
      " 12  Android Ver     10838 non-null  object \n",
      "dtypes: float64(1), object(12)\n",
      "memory usage: 1.1+ MB\n"
     ]
    }
   ],
   "source": [
    "df.info()"
   ]
  },
  {
   "cell_type": "markdown",
   "id": "c1a008e2",
   "metadata": {},
   "source": [
    "## 6.  Get Overall Statistics About The Dataframe"
   ]
  },
  {
   "cell_type": "code",
   "execution_count": 23,
   "id": "1120092b",
   "metadata": {},
   "outputs": [
    {
     "data": {
      "text/html": [
       "<div>\n",
       "<style scoped>\n",
       "    .dataframe tbody tr th:only-of-type {\n",
       "        vertical-align: middle;\n",
       "    }\n",
       "\n",
       "    .dataframe tbody tr th {\n",
       "        vertical-align: top;\n",
       "    }\n",
       "\n",
       "    .dataframe thead th {\n",
       "        text-align: right;\n",
       "    }\n",
       "</style>\n",
       "<table border=\"1\" class=\"dataframe\">\n",
       "  <thead>\n",
       "    <tr style=\"text-align: right;\">\n",
       "      <th></th>\n",
       "      <th>Rating</th>\n",
       "    </tr>\n",
       "  </thead>\n",
       "  <tbody>\n",
       "    <tr>\n",
       "      <th>count</th>\n",
       "      <td>9367.000000</td>\n",
       "    </tr>\n",
       "    <tr>\n",
       "      <th>mean</th>\n",
       "      <td>4.193338</td>\n",
       "    </tr>\n",
       "    <tr>\n",
       "      <th>std</th>\n",
       "      <td>0.537431</td>\n",
       "    </tr>\n",
       "    <tr>\n",
       "      <th>min</th>\n",
       "      <td>1.000000</td>\n",
       "    </tr>\n",
       "    <tr>\n",
       "      <th>25%</th>\n",
       "      <td>4.000000</td>\n",
       "    </tr>\n",
       "    <tr>\n",
       "      <th>50%</th>\n",
       "      <td>4.300000</td>\n",
       "    </tr>\n",
       "    <tr>\n",
       "      <th>75%</th>\n",
       "      <td>4.500000</td>\n",
       "    </tr>\n",
       "    <tr>\n",
       "      <th>max</th>\n",
       "      <td>19.000000</td>\n",
       "    </tr>\n",
       "  </tbody>\n",
       "</table>\n",
       "</div>"
      ],
      "text/plain": [
       "            Rating\n",
       "count  9367.000000\n",
       "mean      4.193338\n",
       "std       0.537431\n",
       "min       1.000000\n",
       "25%       4.000000\n",
       "50%       4.300000\n",
       "75%       4.500000\n",
       "max      19.000000"
      ]
     },
     "execution_count": 23,
     "metadata": {},
     "output_type": "execute_result"
    }
   ],
   "source": [
    "df.describe()"
   ]
  },
  {
   "cell_type": "markdown",
   "id": "51d82eee",
   "metadata": {},
   "source": [
    "## 7.Check for missing values in the dataset\n",
    "### How many missing values are they in each columns?"
   ]
  },
  {
   "cell_type": "code",
   "execution_count": 27,
   "id": "26294119",
   "metadata": {},
   "outputs": [
    {
     "data": {
      "text/plain": [
       "App                  0\n",
       "Category             0\n",
       "Rating            1474\n",
       "Reviews              0\n",
       "Size                 0\n",
       "Installs             0\n",
       "Type                 1\n",
       "Price                0\n",
       "Content Rating       1\n",
       "Genres               0\n",
       "Last Updated         0\n",
       "Current Ver          8\n",
       "Android Ver          3\n",
       "dtype: int64"
      ]
     },
     "execution_count": 27,
     "metadata": {},
     "output_type": "execute_result"
    }
   ],
   "source": [
    "df.isnull().sum()"
   ]
  },
  {
   "cell_type": "markdown",
   "id": "1151326c",
   "metadata": {},
   "source": [
    "## 8. Drop All the missing values"
   ]
  },
  {
   "cell_type": "code",
   "execution_count": 28,
   "id": "a0ea9136",
   "metadata": {},
   "outputs": [
    {
     "name": "stdout",
     "output_type": "stream",
     "text": [
      "App               0\n",
      "Category          0\n",
      "Rating            0\n",
      "Reviews           0\n",
      "Size              0\n",
      "Installs          0\n",
      "Type              0\n",
      "Price             0\n",
      "Content Rating    0\n",
      "Genres            0\n",
      "Last Updated      0\n",
      "Current Ver       0\n",
      "Android Ver       0\n",
      "dtype: int64\n"
     ]
    }
   ],
   "source": [
    "df.dropna(inplace=True)\n",
    "\n",
    "# Verify if all missing values are removed\n",
    "missing_values = df.isnull().sum()\n",
    "print(missing_values)"
   ]
  },
  {
   "cell_type": "markdown",
   "id": "c5a9ee4f",
   "metadata": {},
   "source": [
    "## 9. Check for duplidate data\n",
    "### remove duplicates using drop_duplicates() method"
   ]
  },
  {
   "cell_type": "code",
   "execution_count": 31,
   "id": "8f5e94d5",
   "metadata": {},
   "outputs": [
    {
     "name": "stdout",
     "output_type": "stream",
     "text": [
      "Number of duplicate data: 0\n",
      "Number of duplicate data: 0\n"
     ]
    }
   ],
   "source": [
    "# Check for duplicate data\n",
    "duplicates = df.duplicated().sum()\n",
    "\n",
    "# Print the number of duplicate data\n",
    "print(f\"Number of duplicate data: {duplicates}\")\n",
    "\n",
    "# Remove duplicate data\n",
    "df.drop_duplicates(inplace=True)\n",
    "\n",
    "# Verify if all duplicate data is removed\n",
    "duplicates = df.duplicated().sum()\n",
    "print(f\"Number of duplicate data: {duplicates}\")"
   ]
  },
  {
   "cell_type": "markdown",
   "id": "e72434fc",
   "metadata": {},
   "source": [
    "## 10. Display All the Columns along their Datatype using a Loop"
   ]
  },
  {
   "cell_type": "code",
   "execution_count": 32,
   "id": "6f562d51",
   "metadata": {},
   "outputs": [
    {
     "name": "stdout",
     "output_type": "stream",
     "text": [
      "Column: App - Datatype: object\n",
      "Column: Category - Datatype: object\n",
      "Column: Rating - Datatype: float64\n",
      "Column: Reviews - Datatype: object\n",
      "Column: Size - Datatype: object\n",
      "Column: Installs - Datatype: object\n",
      "Column: Type - Datatype: object\n",
      "Column: Price - Datatype: object\n",
      "Column: Content Rating - Datatype: object\n",
      "Column: Genres - Datatype: object\n",
      "Column: Last Updated - Datatype: object\n",
      "Column: Current Ver - Datatype: object\n",
      "Column: Android Ver - Datatype: object\n"
     ]
    }
   ],
   "source": [
    "columns = df.dtypes\n",
    "\n",
    "# Print the column names and datatypes using a loop\n",
    "for column in columns.items():\n",
    "    print(f\"Column: {column[0]} - Datatype: {column[1]}\")"
   ]
  },
  {
   "cell_type": "markdown",
   "id": "5bfd465e",
   "metadata": {},
   "source": [
    "# <font color=17A589, size = 20>  Analysis of data </font>\n",
    "#### Do not forget to include plain text answers as well."
   ]
  },
  {
   "cell_type": "markdown",
   "id": "c70178d8",
   "metadata": {},
   "source": [
    "## 1. Total Number of App Titles Contain Astrology"
   ]
  },
  {
   "cell_type": "code",
   "execution_count": 35,
   "id": "2f277edb",
   "metadata": {},
   "outputs": [
    {
     "name": "stdout",
     "output_type": "stream",
     "text": [
      "Number of apps with the word 'Astrology' in their title: 3\n"
     ]
    }
   ],
   "source": [
    "# Find the number of app titles that contain the word \"Astrology\"\n",
    "astrology_apps = df[df['App'].str.contains(\"Astrology\")]\n",
    "num_astrology_apps = len(astrology_apps)\n",
    "\n",
    "print(f\"Number of apps with the word 'Astrology' in their title: {num_astrology_apps}\")\n"
   ]
  },
  {
   "cell_type": "markdown",
   "id": "833d2bf1",
   "metadata": {},
   "source": [
    "## 2. Find the Average App Rating"
   ]
  },
  {
   "cell_type": "code",
   "execution_count": 36,
   "id": "b5e3e7f4",
   "metadata": {},
   "outputs": [
    {
     "name": "stdout",
     "output_type": "stream",
     "text": [
      "Average app rating: 4.19\n"
     ]
    }
   ],
   "source": [
    "# Calculate the average rating\n",
    "average_rating = df['Rating'].mean()\n",
    "\n",
    "print(f\"Average app rating: {average_rating:.2f}\")"
   ]
  },
  {
   "cell_type": "markdown",
   "id": "7cdcf8fc",
   "metadata": {},
   "source": [
    "## 3. Find Total Number of Unique Categories"
   ]
  },
  {
   "cell_type": "code",
   "execution_count": 37,
   "id": "f86fb616",
   "metadata": {},
   "outputs": [
    {
     "name": "stdout",
     "output_type": "stream",
     "text": [
      "Total number of unique categories: 33\n"
     ]
    }
   ],
   "source": [
    "# Find the total number of unique categories\n",
    "num_unique_categories = df['Category'].nunique()\n",
    "\n",
    "print(f\"Total number of unique categories: {num_unique_categories}\")"
   ]
  },
  {
   "cell_type": "markdown",
   "id": "f464237d",
   "metadata": {},
   "source": [
    "## 4. Which Category Getting The Highest Average Rating?"
   ]
  },
  {
   "cell_type": "code",
   "execution_count": 39,
   "id": "3f141e33",
   "metadata": {
    "scrolled": true
   },
   "outputs": [
    {
     "name": "stdout",
     "output_type": "stream",
     "text": [
      "Category with highest average rating: EVENTS\n"
     ]
    }
   ],
   "source": [
    "# Group the data by category and calculate the average rating for each category\n",
    "grouped = df.groupby('Category')['Rating'].mean()\n",
    "\n",
    "# Find the category with the highest average rating\n",
    "highest_rating = grouped.idxmax()\n",
    "\n",
    "print(f\"Category with highest average rating: {highest_rating}\")"
   ]
  },
  {
   "cell_type": "markdown",
   "id": "d1e778c4",
   "metadata": {},
   "source": [
    "## 5. Plot the results of the previous question using a horizontal bar chart.\n",
    "### <font color=\"red\">Feel free to make any customization!</font>"
   ]
  },
  {
   "cell_type": "code",
   "execution_count": 41,
   "id": "def3fe52",
   "metadata": {},
   "outputs": [
    {
     "data": {
      "image/png": "[encoded data removed]",
      "text/plain": [
       "<Figure size 1000x600 with 1 Axes>"
      ]
     },
     "metadata": {},
     "output_type": "display_data"
    }
   ],
   "source": [
    "import matplotlib.pyplot as plt\n",
    "# Group the data by category and calculate the average rating for each category\n",
    "grouped = df.groupby('Category')['Rating'].mean()\n",
    "\n",
    "# Plot the results as a horizontal bar chart\n",
    "grouped.plot.barh(xlim=(3, 5), figsize=(10, 6))\n",
    "\n",
    "# Add labels and title\n",
    "plt.xlabel('Average rating')\n",
    "plt.ylabel('Category')\n",
    "plt.title('Average rating by category')\n",
    "\n",
    "# Show the plot\n",
    "plt.show()"
   ]
  },
  {
   "cell_type": "markdown",
   "id": "d329d63a",
   "metadata": {},
   "source": [
    "Replace <file_path> with the actual file path or URL of the Google Play Store Apps dataset you are working with. The code groups the data by the 'Category' column and calculates the average rating for each category, as explained in the previous answer. The grouped.plot.barh() line plots the results as a horizontal bar chart. The xlim argument sets the x-axis limits to (3, 5), and the figsize argument sets the size of the plot to (10, 6). The plt.xlabel, plt.ylabel, and plt.title lines add labels and title to the plot. Finally, the plt.show() line shows the plot."
   ]
  },
  {
   "cell_type": "markdown",
   "id": "7bf53237",
   "metadata": {},
   "source": [
    "# 6.  Find Total Number of App having 5 Star Rating"
   ]
  },
  {
   "cell_type": "code",
   "execution_count": 42,
   "id": "3784fc27",
   "metadata": {},
   "outputs": [
    {
     "name": "stdout",
     "output_type": "stream",
     "text": [
      "Total number of apps with 5-star rating: 271\n"
     ]
    }
   ],
   "source": [
    "# Get the count of apps with 5-star rating\n",
    "five_star_count = df['Rating'].value_counts()[5.0]\n",
    "\n",
    "print('Total number of apps with 5-star rating:', five_star_count)"
   ]
  },
  {
   "cell_type": "markdown",
   "id": "344f5be0",
   "metadata": {},
   "source": [
    "## 7. Find the Average Value of Reviews \n",
    "### <font color=red> Important: </font> Remember that the mean() method is only applicable on numerical values, think of changing the data type of Reviews to 'float'"
   ]
  },
  {
   "cell_type": "code",
   "execution_count": 44,
   "id": "a3ae01fe",
   "metadata": {},
   "outputs": [
    {
     "name": "stdout",
     "output_type": "stream",
     "text": [
      "Average value of Reviews: 473092.80317353137\n"
     ]
    }
   ],
   "source": [
    "# Change the data type of the Reviews column to float\n",
    "df['Reviews'] = df['Reviews'].astype(float)\n",
    "\n",
    "# Get the average value of the Reviews column\n",
    "average_reviews = df['Reviews'].mean()\n",
    "\n",
    "print('Average value of Reviews:', average_reviews)"
   ]
  },
  {
   "cell_type": "markdown",
   "id": "a54afa01",
   "metadata": {},
   "source": [
    "## 8. Find Total Number of Free and Paid apps"
   ]
  },
  {
   "cell_type": "code",
   "execution_count": 45,
   "id": "a38c003e",
   "metadata": {},
   "outputs": [
    {
     "name": "stdout",
     "output_type": "stream",
     "text": [
      "Total number of free apps: 8275\n",
      "Total number of paid apps: 611\n"
     ]
    }
   ],
   "source": [
    "# Get the number of free and paid apps\n",
    "app_types = df['Type'].value_counts()\n",
    "\n",
    "print('Total number of free apps:', app_types['Free'])\n",
    "print('Total number of paid apps:', app_types['Paid'])"
   ]
  },
  {
   "cell_type": "markdown",
   "id": "ba0901ed",
   "metadata": {},
   "source": [
    "## 9. Which App has Maximum Reviews?"
   ]
  },
  {
   "cell_type": "code",
   "execution_count": 46,
   "id": "69a22767",
   "metadata": {},
   "outputs": [
    {
     "name": "stdout",
     "output_type": "stream",
     "text": [
      "App with the maximum number of reviews: Facebook\n"
     ]
    }
   ],
   "source": [
    "# Find the app with the maximum number of reviews\n",
    "max_reviews = df['Reviews'].idxmax()\n",
    "\n",
    "print('App with the maximum number of reviews:', df.loc[max_reviews]['App'])"
   ]
  },
  {
   "cell_type": "markdown",
   "id": "9924649e",
   "metadata": {},
   "source": [
    "## 10. Display Top 5 Apps Having Highest Reviews "
   ]
  },
  {
   "cell_type": "code",
   "execution_count": 47,
   "id": "f4c31ff1",
   "metadata": {},
   "outputs": [
    {
     "name": "stdout",
     "output_type": "stream",
     "text": [
      "Facebook - 78158306.0 reviews\n",
      "Facebook - 78128208.0 reviews\n",
      "WhatsApp Messenger - 69119316.0 reviews\n",
      "WhatsApp Messenger - 69109672.0 reviews\n",
      "Instagram - 66577446.0 reviews\n"
     ]
    }
   ],
   "source": [
    "# Find the top 5 apps with the highest number of reviews\n",
    "top_5 = df.nlargest(5, 'Reviews')\n",
    "\n",
    "# Print the app names and number of reviews\n",
    "for i, row in top_5.iterrows():\n",
    "    print(row['App'], '-', row['Reviews'], 'reviews')"
   ]
  },
  {
   "cell_type": "markdown",
   "id": "3f37ca7d",
   "metadata": {},
   "source": [
    "## 11. Find Average Rating on Free and Paid apps"
   ]
  },
  {
   "cell_type": "code",
   "execution_count": 48,
   "id": "245816fe",
   "metadata": {},
   "outputs": [
    {
     "name": "stdout",
     "output_type": "stream",
     "text": [
      "Free apps: 4.182513595166164\n",
      "Paid apps: 4.261702127659575\n"
     ]
    }
   ],
   "source": [
    "# Group the data by Type and calculate the mean of the Rating column\n",
    "grouped = df.groupby('Type').mean()\n",
    "\n",
    "# Print the average rating of free and paid apps\n",
    "print('Free apps:', grouped.loc['Free', 'Rating'])\n",
    "print('Paid apps:', grouped.loc['Paid', 'Rating'])"
   ]
  },
  {
   "cell_type": "markdown",
   "id": "5881aa1b",
   "metadata": {},
   "source": [
    "## 12.1 - Check the content and datatype of the column Installs and create a copy of it"
   ]
  },
  {
   "cell_type": "code",
   "execution_count": 49,
   "id": "ae848d79",
   "metadata": {},
   "outputs": [
    {
     "name": "stdout",
     "output_type": "stream",
     "text": [
      "Datatype: object\n",
      "First 5 rows:\n",
      "0        10,000+\n",
      "1       500,000+\n",
      "2     5,000,000+\n",
      "3    50,000,000+\n",
      "4       100,000+\n",
      "Name: Installs, dtype: object\n"
     ]
    }
   ],
   "source": [
    "# Check the datatype of the Installs column\n",
    "print('Datatype:', df['Installs'].dtype)\n",
    "\n",
    "# Check the content of the Installs column\n",
    "print('First 5 rows:')\n",
    "print(df['Installs'].head())\n",
    "\n",
    "# Create a copy of the Installs column\n",
    "installs = df['Installs'].copy()"
   ]
  },
  {
   "cell_type": "markdown",
   "id": "aac1b68f",
   "metadata": {},
   "source": [
    "## 12.2 - Remove '+', ',' from the content of Installs"
   ]
  },
  {
   "cell_type": "code",
   "execution_count": 51,
   "id": "ba6d543d",
   "metadata": {},
   "outputs": [],
   "source": [
    "# Create a copy of the Installs column\n",
    "installs = df['Installs'].copy()\n",
    "\n",
    "# Remove + and , from the content of Installs\n",
    "installs = installs.str.replace(',', '', regex=False)\n",
    "installs = installs.str.replace('+', '', regex=False)\n",
    "\n",
    "# Convert the content of Installs to integer\n",
    "installs = installs.astype(int)"
   ]
  },
  {
   "cell_type": "markdown",
   "id": "2cdc05e7",
   "metadata": {},
   "source": [
    "## 12.3 - Convert the type of Installs to 'int'\n",
    "### If you get an error, check if there is any String value that could not be converted to an integer, if so, replace it by 0"
   ]
  },
  {
   "cell_type": "code",
   "execution_count": 52,
   "id": "e16a98eb",
   "metadata": {},
   "outputs": [],
   "source": [
    "# Create a copy of the Installs column\n",
    "installs = df['Installs'].copy()\n",
    "\n",
    "# Remove + and , from the content of Installs\n",
    "installs = installs.str.replace(',', '', regex=False)\n",
    "installs = installs.str.replace('+', '', regex=False)\n",
    "\n",
    "# Convert the content of Installs to integer\n",
    "installs = pd.to_numeric(installs, errors='coerce')\n",
    "\n",
    "# Replace NaN values with 0\n",
    "installs.fillna(0, inplace=True)\n",
    "\n",
    "# Convert the content of Installs to integer\n",
    "installs = installs.astype(int)\n"
   ]
  },
  {
   "cell_type": "markdown",
   "id": "368ef52a",
   "metadata": {},
   "source": [
    "## 13. Display Top  5 Apps Having Maximum Installs"
   ]
  },
  {
   "cell_type": "code",
   "execution_count": 53,
   "id": "439a4287",
   "metadata": {},
   "outputs": [
    {
     "name": "stdout",
     "output_type": "stream",
     "text": [
      "                                              App      Installs\n",
      "4041                                 Temple Run 2  500,000,000+\n",
      "4122                  LINE: Free Calls & Messages  500,000,000+\n",
      "4147                 Gboard - the Google Keyboard  500,000,000+\n",
      "420   UC Browser - Fast Download Private & Secure  500,000,000+\n",
      "3870                                     Snapchat  500,000,000+\n"
     ]
    }
   ],
   "source": [
    "# Sorting the dataframe based on installs column in descending order\n",
    "df_installs = df.sort_values(by='Installs', ascending=False)\n",
    "\n",
    "# Selecting the first 5 rows\n",
    "top_5_apps = df_installs.head(5)\n",
    "\n",
    "# Displaying the top 5 apps\n",
    "print(top_5_apps[['App', 'Installs']])"
   ]
  },
  {
   "cell_type": "markdown",
   "id": "ed9bcd02",
   "metadata": {},
   "source": [
    "## 14. Count Number of Weather Apps"
   ]
  },
  {
   "cell_type": "code",
   "execution_count": 54,
   "id": "fa87829c",
   "metadata": {},
   "outputs": [
    {
     "name": "stdout",
     "output_type": "stream",
     "text": [
      "0\n"
     ]
    }
   ],
   "source": [
    "# Counting the number of apps with the word 'Weather' in the category column\n",
    "weather_apps_count = df[df['Category'].str.contains('Weather')].shape[0]\n",
    "\n",
    "# Printing the result\n",
    "print(weather_apps_count)"
   ]
  },
  {
   "cell_type": "markdown",
   "id": "e1f327b5",
   "metadata": {},
   "source": [
    "## 15. Plot the Count of Apps per Each Category on a histogram\n",
    "### <font color=\"red\">Feel free to make any customization!</font>\n",
    "### Use rotation option of xticks method to rotate the labels (if needed)"
   ]
  },
  {
   "cell_type": "code",
   "execution_count": 55,
   "id": "c31a83fb",
   "metadata": {},
   "outputs": [
    {
     "data": {
      "image/png": "[encoded data removed]",
      "text/plain": [
       "<Figure size 640x480 with 1 Axes>"
      ]
     },
     "metadata": {},
     "output_type": "display_data"
    }
   ],
   "source": [
    "import matplotlib.pyplot as plt\n",
    "\n",
    "# Plotting the histogram\n",
    "df['Category'].value_counts().plot(kind='bar')\n",
    "\n",
    "# Adding a title\n",
    "plt.title(\"Count of Apps per Category\")\n",
    "\n",
    "# Rotating x-axis labels\n",
    "plt.xticks(rotation=90)\n",
    "\n",
    "# Showing the plot\n",
    "plt.show()"
   ]
  },
  {
   "cell_type": "markdown",
   "id": "67e46cbe",
   "metadata": {},
   "source": [
    "## 16. Does Number of Installs affect App's Ratings ?\n",
    "### <font color=\"red\">Use line plot to answer this question.</font>"
   ]
  },
  {
   "cell_type": "code",
   "execution_count": null,
   "id": "81cc6360",
   "metadata": {},
   "outputs": [],
   "source": []
  },
  {
   "cell_type": "markdown",
   "id": "8eef199f",
   "metadata": {},
   "source": [
    "## 17. Classify Apps based on their Ratings (Good, Average and Poor)"
   ]
  },
  {
   "cell_type": "markdown",
   "id": "7b69fea1",
   "metadata": {},
   "source": [
    "### 17.1 - Display all the possible values of Ratings in the dataset"
   ]
  },
  {
   "cell_type": "code",
   "execution_count": 56,
   "id": "d6e19464",
   "metadata": {},
   "outputs": [
    {
     "name": "stdout",
     "output_type": "stream",
     "text": [
      "[4.1 3.9 4.7 4.5 4.3 4.4 3.8 4.2 4.6 4.  4.8 4.9 3.6 3.7 3.2 3.3 3.4 3.5\n",
      " 3.1 5.  2.6 3.  1.9 2.5 2.8 2.7 1.  2.9 2.3 2.2 1.7 2.  1.8 2.4 1.6 2.1\n",
      " 1.4 1.5 1.2]\n"
     ]
    }
   ],
   "source": [
    "ratings_values = df['Rating'].unique()\n",
    "print(ratings_values)"
   ]
  },
  {
   "cell_type": "markdown",
   "id": "6c0d2db7",
   "metadata": {},
   "source": [
    "### 17.2 - Define a function rating_cat() that returns Good for ratings greater than or equal to 4.0, Average for rating greater than 2 and Poor, otherwise."
   ]
  },
  {
   "cell_type": "code",
   "execution_count": 57,
   "id": "d353654c",
   "metadata": {},
   "outputs": [],
   "source": [
    "def rating_cat(rating):\n",
    "    if rating >= 4.0:\n",
    "        return 'Good'\n",
    "    elif rating > 2.0:\n",
    "        return 'Average'\n",
    "    else:\n",
    "        return 'Poor'\n",
    "    "
   ]
  },
  {
   "cell_type": "markdown",
   "id": "b7bf4028",
   "metadata": {},
   "source": [
    "### 17.3 - Create a new column named Rating_Category in which you will apply the rating_cat function"
   ]
  },
  {
   "cell_type": "code",
   "execution_count": 58,
   "id": "52a7a7cf",
   "metadata": {},
   "outputs": [],
   "source": [
    "df[\"Rating_Category\"] = df[\"Rating\"].apply(rating_cat)\n"
   ]
  },
  {
   "cell_type": "markdown",
   "id": "257a1150",
   "metadata": {},
   "source": [
    "### 17.4 - Plot the Total Number of Apps for each of the Three Ratings' Categories (Good, Average, Poor) \n",
    "### <font color=\"red\">Feel free to make any customization!</font>\n",
    "### Use rotation option of xticks method to rotate the labels (if needed)"
   ]
  },
  {
   "cell_type": "code",
   "execution_count": 59,
   "id": "a63524da",
   "metadata": {},
   "outputs": [
    {
     "data": {
      "image/png": "[encoded data removed]",
      "text/plain": [
       "<Figure size 640x480 with 1 Axes>"
      ]
     },
     "metadata": {},
     "output_type": "display_data"
    }
   ],
   "source": [
    "df['Rating_Category'].value_counts().plot(kind='bar')\n",
    "plt.xlabel(\"App Rating Category\")\n",
    "plt.ylabel(\"Number of Apps\")\n",
    "plt.title(\"Total Number of Apps for each of the Three Ratings' Categories (Good, Average, Poor)\")\n",
    "plt.xticks(rotation=0)\n",
    "plt.show()\n"
   ]
  },
  {
   "cell_type": "markdown",
   "id": "c6a5bacc",
   "metadata": {},
   "source": [
    "## 18. Analyse the Content Rating and Rating category"
   ]
  },
  {
   "cell_type": "markdown",
   "id": "513bdc9d",
   "metadata": {},
   "source": [
    "### 18.1 - Find the possible values in the Content Rating category"
   ]
  },
  {
   "cell_type": "code",
   "execution_count": 60,
   "id": "f9c49f76",
   "metadata": {},
   "outputs": [
    {
     "name": "stdout",
     "output_type": "stream",
     "text": [
      "['Everyone' 'Teen' 'Everyone 10+' 'Mature 17+' 'Adults only 18+' 'Unrated']\n"
     ]
    }
   ],
   "source": [
    "content_rating_unique_values = df['Content Rating'].unique()\n",
    "print(content_rating_unique_values)\n"
   ]
  },
  {
   "cell_type": "markdown",
   "id": "fe8529aa",
   "metadata": {},
   "source": [
    "### 18.2 - Using Multiple bar chart, plot the Content Rating per each Rating category"
   ]
  },
  {
   "cell_type": "code",
   "execution_count": 61,
   "id": "1d403be8",
   "metadata": {},
   "outputs": [
    {
     "data": {
      "image/png": "[encoded data removed]",
      "text/plain": [
       "<Figure size 1500x500 with 1 Axes>"
      ]
     },
     "metadata": {},
     "output_type": "display_data"
    }
   ],
   "source": [
    "import seaborn as sns\n",
    "\n",
    "plt.figure(figsize=(15,5))\n",
    "sns.countplot(x=\"Content Rating\", hue=\"Rating_Category\", data=df)\n",
    "plt.xticks(rotation=90)\n",
    "plt.show()"
   ]
  }
 ],
 "metadata": {
  "kernelspec": {
   "display_name": "Python 3 (ipykernel)",
   "language": "python",
   "name": "python3"
  },
  "language_info": {
   "codemirror_mode": {
    "name": "ipython",
    "version": 3
   },
   "file_extension": ".py",
   "mimetype": "text/x-python",
   "name": "python",
   "nbconvert_exporter": "python",
   "pygments_lexer": "ipython3",
   "version": "3.9.13"
  }
 },
 "nbformat": 4,
 "nbformat_minor": 5
}
